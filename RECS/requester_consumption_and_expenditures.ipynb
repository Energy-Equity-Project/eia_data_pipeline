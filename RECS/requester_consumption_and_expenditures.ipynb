{
 "cells": [
  {
   "cell_type": "code",
   "execution_count": 6,
   "metadata": {},
   "outputs": [],
   "source": [
    "import os\n",
    "import requests\n",
    "import pandas as pd\n",
    "import json\n",
    "import re\n",
    "import zipfile\n",
    "import numpy as np\n",
    "from bs4 import BeautifulSoup\n",
    "import urllib"
   ]
  },
  {
   "cell_type": "code",
   "execution_count": null,
   "metadata": {},
   "outputs": [],
   "source": [
    "# Directories\n",
    "outdir = \"outputs/consumption_and_expenditures\""
   ]
  },
  {
   "cell_type": "code",
   "execution_count": null,
   "metadata": {},
   "outputs": [],
   "source": [
    "# For consumption and expenditures URL formula: base_url + year + consumption_url_ending\n",
    "base_url = \"https://www.eia.gov/consumption/residential/data/\"\n",
    "consumption_url_ending = \"/index.php?view=consumption\""
   ]
  },
  {
   "cell_type": "code",
   "execution_count": null,
   "metadata": {},
   "outputs": [],
   "source": [
    "years = [1993, 1997, 2001, 2005, 2009, 2015, 2020]\n",
    "\n",
    "for year in years:\n",
    "\n",
    "   year_dir = os.path.join(outdir, str(year))\n",
    "   if not os.path.exists(year_dir):\n",
    "      os.mkdir(year_dir)\n",
    "\n",
    "   curr_url = base_url + str(year) + consumption_url_ending\n",
    "   resp = requests.get(curr_url)\n",
    "\n",
    "   if (resp.status_code == 200):\n",
    "      soup = BeautifulSoup(resp.content)\n",
    "      links = soup.find_all('a', href = True)\n",
    "      links = [x['href'] for x in links if '.xls' in x['href'] or \".pdf\" in x['href']]\n",
    "\n",
    "      for link in links:\n",
    "\n",
    "         if \"/consumption/residential/data\" in link:\n",
    "            link = link[len(\"/consumption/residential/data/1993/\"):]\n",
    "\n",
    "         link_full_url = base_url + str(year) + \"/\" + link\n",
    "         link_resp = requests.get(link_full_url)\n",
    "         test = re.findall(\"^.*\\/(.*)$\", link)\n",
    "         table_name = re.findall(\"^.*\\/(.*)$\", link)[0]\n",
    "         print(f'{link_full_url} {link_resp.status_code} {table_name}')\n",
    "\n",
    "         if (link_resp.status_code == 200):\n",
    "            output = open(os.path.join(year_dir, table_name), 'wb')\n",
    "            output.write(link_resp.content)\n",
    "            output.close()\n"
   ]
  },
  {
   "cell_type": "code",
   "execution_count": null,
   "metadata": {},
   "outputs": [],
   "source": [
    "# https://www.eia.gov/consumption/residential/data/2015/c&e/pdf/ce1.1.pdf"
   ]
  }
 ],
 "metadata": {
  "kernelspec": {
   "display_name": "Python 3",
   "language": "python",
   "name": "python3"
  },
  "language_info": {
   "codemirror_mode": {
    "name": "ipython",
    "version": 3
   },
   "file_extension": ".py",
   "mimetype": "text/x-python",
   "name": "python",
   "nbconvert_exporter": "python",
   "pygments_lexer": "ipython3",
   "version": "3.11.2"
  }
 },
 "nbformat": 4,
 "nbformat_minor": 2
}
