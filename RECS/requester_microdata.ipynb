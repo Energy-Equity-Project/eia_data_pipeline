{
 "cells": [
  {
   "cell_type": "code",
   "execution_count": 1,
   "metadata": {},
   "outputs": [],
   "source": [
    "import os\n",
    "import requests\n",
    "import pandas as pd\n",
    "import json\n",
    "import re\n",
    "import zipfile\n",
    "import numpy as np\n",
    "from bs4 import BeautifulSoup\n",
    "import urllib"
   ]
  },
  {
   "cell_type": "code",
   "execution_count": 2,
   "metadata": {},
   "outputs": [],
   "source": [
    "# Directories\n",
    "outdir = \"outputs/microdata\""
   ]
  },
  {
   "cell_type": "code",
   "execution_count": 3,
   "metadata": {},
   "outputs": [],
   "source": [
    "# For consumption and expenditures URL formula: base_url + year + methodology_url_ending\n",
    "base_url = \"https://www.eia.gov/consumption/residential/data/\"\n",
    "microdata_url_ending = \"/index.php?view=microdata\""
   ]
  },
  {
   "cell_type": "code",
   "execution_count": 4,
   "metadata": {},
   "outputs": [
    {
     "name": "stdout",
     "output_type": "stream",
     "text": [
      "https://www.eia.gov/consumption/residential/data/1993/../1993/pdf/puquest_ab.pdf 200 puquest_ab.pdf\n",
      "https://www.eia.gov/consumption/residential/data/1993/../1993/pdf/puquest_c.pdf 200 puquest_c.pdf\n",
      "https://www.eia.gov/consumption/residential/data/1993/../1993/pdf/puquest_def.pdf 200 puquest_def.pdf\n",
      "https://www.eia.gov/consumption/residential/data/1993/../1993/pdf/puquest_g.pdf 200 puquest_g.pdf\n",
      "https://www.eia.gov/consumption/residential/data/1993/../1993/pdf/puquest_hi.pdf 200 puquest_hi.pdf\n",
      "https://www.eia.gov/consumption/residential/data/1993/../1993/pdf/puquest_j.pdf 200 puquest_j.pdf\n",
      "https://www.eia.gov/consumption/residential/data/1993/../1993/pdf/puquest_k.pdf 200 puquest_k.pdf\n",
      "https://www.eia.gov/consumption/residential/data/1993/../1993/pdf/puquest_ln.pdf 200 puquest_ln.pdf\n",
      "https://www.eia.gov/consumption/residential/data/1993/../1993/pdf/puquest_m.pdf 200 puquest_m.pdf\n",
      "https://www.eia.gov/consumption/residential/data/1997/pdf/puquex_b.pdf 200 puquex_b.pdf\n",
      "https://www.eia.gov/consumption/residential/data/1997/pdf/puquex_b.pdf 200 puquex_b.pdf\n",
      "https://www.eia.gov/consumption/residential/data/1997/pdf/puquex_c.pdf 200 puquex_c.pdf\n",
      "https://www.eia.gov/consumption/residential/data/1997/pdf/puquex_d.pdf 200 puquex_d.pdf\n",
      "https://www.eia.gov/consumption/residential/data/1997/pdf/puquex_e.pdf 200 puquex_e.pdf\n",
      "https://www.eia.gov/consumption/residential/data/1997/pdf/puquex_h.pdf 200 puquex_h.pdf\n",
      "https://www.eia.gov/consumption/residential/data/1997/pdf/puquex_i.pdf 200 puquex_i.pdf\n",
      "https://www.eia.gov/consumption/residential/data/1997/pdf/puquex_j.pdf 200 puquex_j.pdf\n",
      "https://www.eia.gov/consumption/residential/data/1997/pdf/puquex_k.pdf 200 puquex_k.pdf\n",
      "https://www.eia.gov/consumption/residential/data/2001/xls/publicuse2001.xls 200 publicuse2001.xls\n",
      "https://www.eia.gov/consumption/residential/data/2001/pdf/questionaire2001.pdf 200 questionaire2001.pdf\n",
      "https://www.eia.gov/consumption/residential/data/2001/xls/publicuse22001.xls 200 publicuse22001.xls\n",
      "https://www.eia.gov/consumption/residential/data/2001/pdf/questionaireb.pdf 200 questionaireb.pdf\n",
      "https://www.eia.gov/consumption/residential/data/2001/xls/publicuse32001.xls 200 publicuse32001.xls\n",
      "https://www.eia.gov/consumption/residential/data/2001/pdf/questionairec.pdf 200 questionairec.pdf\n",
      "https://www.eia.gov/consumption/residential/data/2001/xls/publicuse42001.xls 200 publicuse42001.xls\n",
      "https://www.eia.gov/consumption/residential/data/2001/pdf/questionaired.pdf 200 questionaired.pdf\n",
      "https://www.eia.gov/consumption/residential/data/2001/xls/publicuse52001.xls 200 publicuse52001.xls\n",
      "https://www.eia.gov/consumption/residential/data/2001/pdf/questionairee-g.pdf 200 questionairee-g.pdf\n",
      "https://www.eia.gov/consumption/residential/data/2001/xls/publicuse62001.xls 200 publicuse62001.xls\n",
      "https://www.eia.gov/consumption/residential/data/2001/pdf/questionaireh.pdf 200 questionaireh.pdf\n",
      "https://www.eia.gov/consumption/residential/data/2001/xls/publicuse72001.xls 200 publicuse72001.xls\n",
      "https://www.eia.gov/consumption/residential/data/2001/pdf/questionairei.pdf 200 questionairei.pdf\n",
      "https://www.eia.gov/consumption/residential/data/2001/xls/publicuse82001.xls 200 publicuse82001.xls\n",
      "https://www.eia.gov/consumption/residential/data/2001/pdf/questionairej.pdf 200 questionairej.pdf\n",
      "https://www.eia.gov/consumption/residential/data/2001/xls/publicuse92001.xls 200 publicuse92001.xls\n",
      "https://www.eia.gov/consumption/residential/data/2001/pdf/questionairek-m.pdf 200 questionairek-m.pdf\n",
      "https://www.eia.gov/consumption/residential/data/2001/xls/publicuse102001.xls 200 publicuse102001.xls\n",
      "https://www.eia.gov/consumption/residential/data/2001/xls/publicuse112001.xls 200 publicuse112001.xls\n",
      "https://www.eia.gov/consumption/residential/data/2001/xls/publicuse122001.xls 200 publicuse122001.xls\n",
      "https://www.eia.gov/consumption/residential/data/2005/pdf/2005recshouseholdquex.pdf 200 2005recshouseholdquex.pdf\n",
      "https://www.eia.gov/consumption/residential/data/2005/pdf/recs05codebook.pdf 200 recs05codebook.pdf\n",
      "https://www.eia.gov/consumption/residential/data/2005/pdf/quexa.pdf 200 quexa.pdf\n",
      "https://www.eia.gov/consumption/residential/data/2005/pdf/quexb.pdf 200 quexb.pdf\n",
      "https://www.eia.gov/consumption/residential/data/2005/pdf/quexc.pdf 200 quexc.pdf\n",
      "https://www.eia.gov/consumption/residential/data/2005/pdf/quexd.pdf 200 quexd.pdf\n",
      "https://www.eia.gov/consumption/residential/data/2005/pdf/quexefg.pdf 200 quexefg.pdf\n",
      "https://www.eia.gov/consumption/residential/data/2005/pdf/quexh.pdf 200 quexh.pdf\n",
      "https://www.eia.gov/consumption/residential/data/2005/pdf/quexi.pdf 200 quexi.pdf\n",
      "https://www.eia.gov/consumption/residential/data/2005/pdf/quexj.pdf 200 quexj.pdf\n",
      "https://www.eia.gov/consumption/residential/data/2005/pdf/quexkl.pdf 200 quexkl.pdf\n",
      "https://www.eia.gov/consumption/residential/data/2009//consumption/residential/methodology/2009/pdf/using-microdata-022613.pdf 200 using-microdata-022613.pdf\n",
      "https://www.eia.gov/consumption/residential/data/2009/xls/recs2009_public_codebook.xlsx 200 recs2009_public_codebook.xlsx\n",
      "https://www.eia.gov/consumption/residential/data/2015/pdf/microdata_v3.pdf 200 microdata_v3.pdf\n",
      "https://www.eia.gov/consumption/residential/data/2015/xls/codebook_publicv4.xlsx 200 codebook_publicv4.xlsx\n",
      "https://www.eia.gov/consumption/residential/data/2020/pdf/microdata-guide.pdf 200 microdata-guide.pdf\n",
      "https://www.eia.gov/consumption/residential/data/2020/xls/RECS 2020 Codebook for Public File - v7.xlsx 200 RECS 2020 Codebook for Public File - v7.xlsx\n"
     ]
    }
   ],
   "source": [
    "years = [1993, 1997, 2001, 2005, 2009, 2015, 2020]\n",
    "\n",
    "for year in years:\n",
    "\n",
    "   year_dir = os.path.join(outdir, str(year))\n",
    "   if not os.path.exists(year_dir):\n",
    "      os.mkdir(year_dir)\n",
    "\n",
    "   curr_url = base_url + str(year) + microdata_url_ending\n",
    "   resp = requests.get(curr_url)\n",
    "\n",
    "   if (resp.status_code == 200):\n",
    "      soup = BeautifulSoup(resp.content)\n",
    "      links = soup.find_all('a', href = True)\n",
    "      links = [x['href'] for x in links if '.xls' in x['href'] or \".pdf\" in x['href']]\n",
    "\n",
    "      for link in links:\n",
    "\n",
    "         if \"/consumption/residential/data\" in link:\n",
    "            link = link[len(\"/consumption/residential/data/1993/\"):]\n",
    "\n",
    "         link_full_url = base_url + str(year) + \"/\" + link\n",
    "         link_resp = requests.get(link_full_url)\n",
    "         test = re.findall(\"^.*\\/(.*)$\", link)\n",
    "         table_name = re.findall(\"^.*\\/(.*)$\", link)[0]\n",
    "         print(f'{link_full_url} {link_resp.status_code} {table_name}')\n",
    "\n",
    "         if (link_resp.status_code == 200):\n",
    "            output = open(os.path.join(year_dir, table_name), 'wb')\n",
    "            output.write(link_resp.content)\n",
    "            output.close()\n"
   ]
  }
 ],
 "metadata": {
  "kernelspec": {
   "display_name": "Python 3",
   "language": "python",
   "name": "python3"
  },
  "language_info": {
   "codemirror_mode": {
    "name": "ipython",
    "version": 3
   },
   "file_extension": ".py",
   "mimetype": "text/x-python",
   "name": "python",
   "nbconvert_exporter": "python",
   "pygments_lexer": "ipython3",
   "version": "3.11.2"
  }
 },
 "nbformat": 4,
 "nbformat_minor": 2
}
